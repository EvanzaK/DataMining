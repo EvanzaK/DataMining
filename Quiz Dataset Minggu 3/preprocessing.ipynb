{
 "cells": [
  {
   "cell_type": "markdown",
   "metadata": {},
   "source": [
    "## Import Library\n"
   ]
  },
  {
   "cell_type": "code",
   "execution_count": 58,
   "metadata": {},
   "outputs": [],
   "source": [
    "import numpy as np\n",
    "import matplotlib.pyplot as plt\n",
    "import pandas as pd"
   ]
  },
  {
   "cell_type": "markdown",
   "metadata": {},
   "source": [
    "## Import Dataset"
   ]
  },
  {
   "cell_type": "code",
   "execution_count": 108,
   "metadata": {},
   "outputs": [
    {
     "name": "stdout",
     "output_type": "stream",
     "text": [
      "[[1 'Indonesia' 35.0 10000.0]\n",
      " [2 'Malaysia' 40.0 7700.0]\n",
      " [3 'Singapore' 45.0 6500.0]\n",
      " [4 'Spain' 43.0 8000.0]\n",
      " [5 'Germany' 30.0 nan]\n",
      " [6 'US' 50.0 8700.0]\n",
      " [7 'France' 35.0 nan]\n",
      " [8 'Indonesia' nan 7500.0]\n",
      " [9 'Malaysia' nan 8400.0]\n",
      " [10 'Singapore' 40.0 9500.0]]\n",
      "['Male' 'Female' 'Female' 'Male' 'Male' 'Female' 'Male' 'Male' 'Male'\n",
      " 'Female']\n"
     ]
    }
   ],
   "source": [
    "dataset = pd.read_csv('Dataset1.csv')\n",
    "x = dataset.iloc[:, :-1].values\n",
    "y = dataset.iloc[:, -1].values\n",
    "print (x)\n",
    "print (y)"
   ]
  },
  {
   "cell_type": "markdown",
   "metadata": {},
   "source": [
    "## Menghilangkan Missing Value(nan)"
   ]
  },
  {
   "cell_type": "code",
   "execution_count": 111,
   "metadata": {},
   "outputs": [
    {
     "name": "stdout",
     "output_type": "stream",
     "text": [
      "[[1 'Indonesia' 35.0 10000.0]\n",
      " [2 'Malaysia' 40.0 7700.0]\n",
      " [3 'Singapore' 45.0 6500.0]\n",
      " [4 'Spain' 43.0 8000.0]\n",
      " [5 'Germany' 30.0 8287.5]\n",
      " [6 'US' 50.0 8700.0]\n",
      " [7 'France' 35.0 8287.5]\n",
      " [8 'Indonesia' 39.75 7500.0]\n",
      " [9 'Malaysia' 39.75 8400.0]\n",
      " [10 'Singapore' 40.0 9500.0]]\n"
     ]
    }
   ],
   "source": [
    "from sklearn.impute import SimpleImputer\n",
    "imputer = SimpleImputer(missing_values=np.nan, strategy='mean')\n",
    "imputer.fit(x[:, 2:4])\n",
    "x[:, 2:4] = imputer.transform(x[:, 2:4])\n",
    "print(x)"
   ]
  },
  {
   "cell_type": "markdown",
   "metadata": {},
   "source": [
    "## Encoding Data"
   ]
  },
  {
   "cell_type": "code",
   "execution_count": 112,
   "metadata": {},
   "outputs": [
    {
     "name": "stdout",
     "output_type": "stream",
     "text": [
      "[[1.0 0.0 0.0 0.0 0.0 0.0 0.0 0.0 0.0 0.0 'Indonesia' 35.0 10000.0]\n",
      " [0.0 1.0 0.0 0.0 0.0 0.0 0.0 0.0 0.0 0.0 'Malaysia' 40.0 7700.0]\n",
      " [0.0 0.0 1.0 0.0 0.0 0.0 0.0 0.0 0.0 0.0 'Singapore' 45.0 6500.0]\n",
      " [0.0 0.0 0.0 1.0 0.0 0.0 0.0 0.0 0.0 0.0 'Spain' 43.0 8000.0]\n",
      " [0.0 0.0 0.0 0.0 1.0 0.0 0.0 0.0 0.0 0.0 'Germany' 30.0 8287.5]\n",
      " [0.0 0.0 0.0 0.0 0.0 1.0 0.0 0.0 0.0 0.0 'US' 50.0 8700.0]\n",
      " [0.0 0.0 0.0 0.0 0.0 0.0 1.0 0.0 0.0 0.0 'France' 35.0 8287.5]\n",
      " [0.0 0.0 0.0 0.0 0.0 0.0 0.0 1.0 0.0 0.0 'Indonesia' 39.75 7500.0]\n",
      " [0.0 0.0 0.0 0.0 0.0 0.0 0.0 0.0 1.0 0.0 'Malaysia' 39.75 8400.0]\n",
      " [0.0 0.0 0.0 0.0 0.0 0.0 0.0 0.0 0.0 1.0 'Singapore' 40.0 9500.0]]\n"
     ]
    }
   ],
   "source": [
    "from sklearn.compose import ColumnTransformer\n",
    "from sklearn.preprocessing import OneHotEncoder\n",
    "ct = ColumnTransformer(transformers=[('encoder', OneHotEncoder(), [0])], remainder='passthrough')\n",
    "x = np.array(ct.fit_transform(x))\n",
    "print(x)"
   ]
  },
  {
   "cell_type": "markdown",
   "metadata": {},
   "source": [
    "## Encoding Kategori"
   ]
  },
  {
   "cell_type": "code",
   "execution_count": 113,
   "metadata": {},
   "outputs": [
    {
     "name": "stdout",
     "output_type": "stream",
     "text": [
      "[1 0 0 1 1 0 1 1 1 0]\n"
     ]
    }
   ],
   "source": [
    "from sklearn.preprocessing import LabelEncoder\n",
    "le = LabelEncoder()\n",
    "y = le.fit_transform(y)\n",
    "print (y)"
   ]
  },
  {
   "cell_type": "markdown",
   "metadata": {},
   "source": [
    "## Membagi Dataset"
   ]
  },
  {
   "cell_type": "code",
   "execution_count": 118,
   "metadata": {},
   "outputs": [
    {
     "name": "stdout",
     "output_type": "stream",
     "text": [
      "[[0.0 0.0 0.0 0.0 0.0 0.0 1.0 0.0 0.0 0.0 'France' 35.0 8287.5]\n",
      " [0.0 0.0 0.0 0.0 1.0 0.0 0.0 0.0 0.0 0.0 'Germany' 30.0 8287.5]\n",
      " [1.0 0.0 0.0 0.0 0.0 0.0 0.0 0.0 0.0 0.0 'Indonesia' 35.0 10000.0]\n",
      " [0.0 0.0 0.0 1.0 0.0 0.0 0.0 0.0 0.0 0.0 'Spain' 43.0 8000.0]\n",
      " [0.0 1.0 0.0 0.0 0.0 0.0 0.0 0.0 0.0 0.0 'Malaysia' 40.0 7700.0]\n",
      " [0.0 0.0 0.0 0.0 0.0 0.0 0.0 1.0 0.0 0.0 'Indonesia' 39.75 7500.0]\n",
      " [0.0 0.0 0.0 0.0 0.0 0.0 0.0 0.0 1.0 0.0 'Malaysia' 39.75 8400.0]\n",
      " [0.0 0.0 0.0 0.0 0.0 1.0 0.0 0.0 0.0 0.0 'US' 50.0 8700.0]]\n",
      "[[0.0 0.0 1.0 0.0 0.0 0.0 0.0 0.0 0.0 0.0 'Singapore' 45.0 6500.0]\n",
      " [0.0 0.0 0.0 0.0 0.0 0.0 0.0 0.0 0.0 1.0 'Singapore' 40.0 9500.0]]\n",
      "[1 1 1 1 0 1 1 0]\n",
      "[0 0]\n"
     ]
    }
   ],
   "source": [
    "from sklearn.model_selection import train_test_split\n",
    "x_train, x_test, y_train, y_test = train_test_split(x, y, test_size= 0.2, random_state = 1)\n",
    "print (x_train)\n",
    "print (x_test)\n",
    "print (y_train)\n",
    "print (y_test)"
   ]
  },
  {
   "cell_type": "markdown",
   "metadata": {},
   "source": [
    "## Feature Scaling"
   ]
  },
  {
   "cell_type": "code",
   "execution_count": 123,
   "metadata": {},
   "outputs": [
    {
     "name": "stdout",
     "output_type": "stream",
     "text": [
      "[['1.0' '0.0' '0.0' '1.3947559390641278' '1.3728129459672882']\n",
      " ['0.0' '0.0' '1.0' '-0.8998425413316948' '-0.9805806756909201']\n",
      " ['0.0' '1.0' '0.0' '-0.49491339773243204' '-0.39223227027636803']]\n",
      "[['0.0' '0.0' '1.0' '0.5848976518656022' '0.294174202707276']\n",
      " ['0.0' '1.0' '0.0' '0.8548504142651108' '0.9805806756909201']\n",
      " ['1.0' '0.0' '0.0' '0.17996850826633937' '0.0']]\n"
     ]
    }
   ],
   "source": [
    "x_train = np.array([['France', 44, 72000],\n",
    "                    ['Spain', 27, 48000],\n",
    "                    ['Germany', 30, 54000]])\n",
    "x_test = np.array([['Spain', 38, 61000],\n",
    "                   ['Germany', 40, 68000],\n",
    "                   ['France', 35, 58000]])\n",
    "\n",
    "ct = ColumnTransformer(transformers=[('encoder', OneHotEncoder(), [0])], remainder='passthrough')\n",
    "x_train = np.array(ct.fit_transform(x_train))\n",
    "x_test = np.array(ct.transform(x_test))\n",
    "sc = StandardScaler()\n",
    "x_train[:, 3:] = sc.fit_transform(x_train[:, 3:])\n",
    "x_test[:, 3:] = sc.transform(x_test[:, 3:])\n",
    "\n",
    "print(x_train)\n",
    "print(x_test)\n"
   ]
  }
 ],
 "metadata": {
  "kernelspec": {
   "display_name": "Python 3",
   "language": "python",
   "name": "python3"
  },
  "language_info": {
   "codemirror_mode": {
    "name": "ipython",
    "version": 3
   },
   "file_extension": ".py",
   "mimetype": "text/x-python",
   "name": "python",
   "nbconvert_exporter": "python",
   "pygments_lexer": "ipython3",
   "version": "3.12.2"
  }
 },
 "nbformat": 4,
 "nbformat_minor": 2
}
