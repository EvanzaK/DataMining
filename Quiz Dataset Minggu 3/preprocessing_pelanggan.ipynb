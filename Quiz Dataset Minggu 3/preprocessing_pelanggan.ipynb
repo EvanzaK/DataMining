{
 "cells": [
  {
   "cell_type": "markdown",
   "metadata": {},
   "source": [
    "## Import Library"
   ]
  },
  {
   "cell_type": "code",
   "execution_count": 6,
   "metadata": {},
   "outputs": [],
   "source": [
    "import pandas as pd\n",
    "import numpy as np\n",
    "from sklearn.preprocessing import StandardScaler, MinMaxScaler, LabelEncoder\n"
   ]
  },
  {
   "cell_type": "markdown",
   "metadata": {},
   "source": [
    "## Import Dataset"
   ]
  },
  {
   "cell_type": "code",
   "execution_count": 7,
   "metadata": {},
   "outputs": [
    {
     "name": "stdout",
     "output_type": "stream",
     "text": [
      "[['C001' 'Alice' 'Female' 28.0 'New York' 85000.0]\n",
      " ['C002' 'Bob' 'Male' nan 'Los Angeles' 62000.0]\n",
      " ['C003' 'Charlie' 'Male' 45.0 'Chicago' 93000.0]\n",
      " ['C004' 'David' 'Male' 23.0 'San Francisco' nan]\n",
      " ['C005' 'Eva' 'Female' 38.0 'Chicago' 76000.0]\n",
      " ['C006' 'Frank' 'Male' 29.0 'New York' 92000.0]\n",
      " ['C007' 'Grace' 'Female' nan 'Los Angeles' 65000.0]\n",
      " ['C008' 'Hannah' 'Female' 33.0 'Chicago' 71000.0]\n",
      " ['C009' 'Ivan' 'Male' 55.0 'New York' nan]\n",
      " ['C010' 'Jane' 'Female' 27.0 'San Francisco' 78000.0]]\n",
      "['Yes' 'No' 'Yes' 'No' 'Yes' 'Yes' 'No' 'Yes' 'No' 'Yes']\n"
     ]
    }
   ],
   "source": [
    "dataset = pd.read_csv('pelanggan.csv')\n",
    "x = dataset.iloc[:, :-1].values\n",
    "y = dataset.iloc[:, -1].values\n",
    "print (x)\n",
    "print (y)"
   ]
  },
  {
   "cell_type": "markdown",
   "metadata": {},
   "source": [
    "## Missing Values\n",
    "menghapus missing value & mengisi data yang hilang"
   ]
  },
  {
   "cell_type": "code",
   "execution_count": 11,
   "metadata": {},
   "outputs": [
    {
     "name": "stdout",
     "output_type": "stream",
     "text": [
      "[['C001' 'Alice' 'Female' 28.0 'New York' 85000.0]\n",
      " ['C002' 'Bob' 'Male' 34.75 'Los Angeles' 62000.0]\n",
      " ['C003' 'Charlie' 'Male' 45.0 'Chicago' 93000.0]\n",
      " ['C004' 'David' 'Male' 23.0 'San Francisco' nan]\n",
      " ['C005' 'Eva' 'Female' 38.0 'Chicago' 76000.0]\n",
      " ['C006' 'Frank' 'Male' 29.0 'New York' 92000.0]\n",
      " ['C007' 'Grace' 'Female' 34.75 'Los Angeles' 65000.0]\n",
      " ['C008' 'Hannah' 'Female' 33.0 'Chicago' 71000.0]\n",
      " ['C009' 'Ivan' 'Male' 55.0 'New York' nan]\n",
      " ['C010' 'Jane' 'Female' 27.0 'San Francisco' 78000.0]]\n"
     ]
    }
   ],
   "source": [
    "from sklearn.impute import SimpleImputer\n",
    "imputer = SimpleImputer(missing_values=np.nan, strategy='mean')\n",
    "imputer.fit(x[:, 3:4])\n",
    "x[:, 3:4] = imputer.transform(x[:, 3:4])\n",
    "print(x)"
   ]
  },
  {
   "cell_type": "markdown",
   "metadata": {},
   "source": [
    "## Encoding Data"
   ]
  },
  {
   "cell_type": "code",
   "execution_count": 12,
   "metadata": {},
   "outputs": [
    {
     "name": "stdout",
     "output_type": "stream",
     "text": [
      "[[1.0 0.0 0.0 0.0 0.0 0.0 0.0 0.0 0.0 0.0 'Alice' 'Female' 28.0\n",
      "  'New York' 85000.0]\n",
      " [0.0 1.0 0.0 0.0 0.0 0.0 0.0 0.0 0.0 0.0 'Bob' 'Male' 34.75\n",
      "  'Los Angeles' 62000.0]\n",
      " [0.0 0.0 1.0 0.0 0.0 0.0 0.0 0.0 0.0 0.0 'Charlie' 'Male' 45.0 'Chicago'\n",
      "  93000.0]\n",
      " [0.0 0.0 0.0 1.0 0.0 0.0 0.0 0.0 0.0 0.0 'David' 'Male' 23.0\n",
      "  'San Francisco' nan]\n",
      " [0.0 0.0 0.0 0.0 1.0 0.0 0.0 0.0 0.0 0.0 'Eva' 'Female' 38.0 'Chicago'\n",
      "  76000.0]\n",
      " [0.0 0.0 0.0 0.0 0.0 1.0 0.0 0.0 0.0 0.0 'Frank' 'Male' 29.0 'New York'\n",
      "  92000.0]\n",
      " [0.0 0.0 0.0 0.0 0.0 0.0 1.0 0.0 0.0 0.0 'Grace' 'Female' 34.75\n",
      "  'Los Angeles' 65000.0]\n",
      " [0.0 0.0 0.0 0.0 0.0 0.0 0.0 1.0 0.0 0.0 'Hannah' 'Female' 33.0\n",
      "  'Chicago' 71000.0]\n",
      " [0.0 0.0 0.0 0.0 0.0 0.0 0.0 0.0 1.0 0.0 'Ivan' 'Male' 55.0 'New York'\n",
      "  nan]\n",
      " [0.0 0.0 0.0 0.0 0.0 0.0 0.0 0.0 0.0 1.0 'Jane' 'Female' 27.0\n",
      "  'San Francisco' 78000.0]]\n"
     ]
    }
   ],
   "source": [
    "from sklearn.compose import ColumnTransformer\n",
    "from sklearn.preprocessing import OneHotEncoder\n",
    "ct = ColumnTransformer(transformers=[('encoder', OneHotEncoder(), [0])], remainder='passthrough')\n",
    "x = np.array(ct.fit_transform(x))\n",
    "print(x)"
   ]
  },
  {
   "cell_type": "code",
   "execution_count": 13,
   "metadata": {},
   "outputs": [
    {
     "name": "stdout",
     "output_type": "stream",
     "text": [
      "[1 0 1 0 1 1 0 1 0 1]\n"
     ]
    }
   ],
   "source": [
    "from sklearn.preprocessing import LabelEncoder\n",
    "le = LabelEncoder()\n",
    "y = le.fit_transform(y)\n",
    "print (y)"
   ]
  },
  {
   "cell_type": "code",
   "execution_count": 17,
   "metadata": {},
   "outputs": [
    {
     "name": "stdout",
     "output_type": "stream",
     "text": [
      "[[0.0 0.0 0.0 0.0 0.0 0.0 1.0 0.0 0.0 0.0 'Grace' 'Female' 34.75\n",
      "  'Los Angeles' 65000.0]\n",
      " [0.0 0.0 0.0 0.0 1.0 0.0 0.0 0.0 0.0 0.0 'Eva' 'Female' 38.0 'Chicago'\n",
      "  76000.0]\n",
      " [1.0 0.0 0.0 0.0 0.0 0.0 0.0 0.0 0.0 0.0 'Alice' 'Female' 28.0\n",
      "  'New York' 85000.0]\n",
      " [0.0 0.0 0.0 1.0 0.0 0.0 0.0 0.0 0.0 0.0 'David' 'Male' 23.0\n",
      "  'San Francisco' nan]\n",
      " [0.0 1.0 0.0 0.0 0.0 0.0 0.0 0.0 0.0 0.0 'Bob' 'Male' 34.75\n",
      "  'Los Angeles' 62000.0]\n",
      " [0.0 0.0 0.0 0.0 0.0 0.0 0.0 1.0 0.0 0.0 'Hannah' 'Female' 33.0\n",
      "  'Chicago' 71000.0]\n",
      " [0.0 0.0 0.0 0.0 0.0 0.0 0.0 0.0 1.0 0.0 'Ivan' 'Male' 55.0 'New York'\n",
      "  nan]\n",
      " [0.0 0.0 0.0 0.0 0.0 1.0 0.0 0.0 0.0 0.0 'Frank' 'Male' 29.0 'New York'\n",
      "  92000.0]]\n",
      "[[0.0 0.0 1.0 0.0 0.0 0.0 0.0 0.0 0.0 0.0 'Charlie' 'Male' 45.0 'Chicago'\n",
      "  93000.0]\n",
      " [0.0 0.0 0.0 0.0 0.0 0.0 0.0 0.0 0.0 1.0 'Jane' 'Female' 27.0\n",
      "  'San Francisco' 78000.0]]\n",
      "[0 1 1 0 0 1 0 1]\n",
      "[1 1]\n"
     ]
    }
   ],
   "source": [
    "from sklearn.model_selection import train_test_split\n",
    "x_train, x_test, y_train, y_test = train_test_split(x, y, test_size= 0.2, random_state = 1)\n",
    "print (x_train)\n",
    "print (x_test)\n",
    "print (y_train)\n",
    "print (y_test)"
   ]
  },
  {
   "cell_type": "markdown",
   "metadata": {},
   "source": [
    "## Feature Scalling"
   ]
  },
  {
   "cell_type": "code",
   "execution_count": 18,
   "metadata": {},
   "outputs": [
    {
     "name": "stdout",
     "output_type": "stream",
     "text": [
      "[['1.0' '0.0' '0.0' '1.3947559390641278' '1.3728129459672882']\n",
      " ['0.0' '0.0' '1.0' '-0.8998425413316948' '-0.9805806756909201']\n",
      " ['0.0' '1.0' '0.0' '-0.49491339773243204' '-0.39223227027636803']]\n",
      "[['0.0' '0.0' '1.0' '0.5848976518656022' '0.294174202707276']\n",
      " ['0.0' '1.0' '0.0' '0.8548504142651108' '0.9805806756909201']\n",
      " ['1.0' '0.0' '0.0' '0.17996850826633937' '0.0']]\n"
     ]
    }
   ],
   "source": [
    "from sklearn.preprocessing import StandardScaler\n",
    "x_train = np.array([['France', 44, 72000],\n",
    "                    ['Spain', 27, 48000],\n",
    "                    ['Germany', 30, 54000]])\n",
    "x_test = np.array([['Spain', 38, 61000],\n",
    "                   ['Germany', 40, 68000],\n",
    "                   ['France', 35, 58000]])\n",
    "\n",
    "ct = ColumnTransformer(transformers=[('encoder', OneHotEncoder(), [0])], remainder='passthrough')\n",
    "x_train = np.array(ct.fit_transform(x_train))\n",
    "x_test = np.array(ct.transform(x_test))\n",
    "sc = StandardScaler()\n",
    "x_train[:, 3:] = sc.fit_transform(x_train[:, 3:])\n",
    "x_test[:, 3:] = sc.transform(x_test[:, 3:])\n",
    "\n",
    "print(x_train)\n",
    "print(x_test)\n"
   ]
  }
 ],
 "metadata": {
  "kernelspec": {
   "display_name": "Python 3",
   "language": "python",
   "name": "python3"
  },
  "language_info": {
   "codemirror_mode": {
    "name": "ipython",
    "version": 3
   },
   "file_extension": ".py",
   "mimetype": "text/x-python",
   "name": "python",
   "nbconvert_exporter": "python",
   "pygments_lexer": "ipython3",
   "version": "3.12.2"
  }
 },
 "nbformat": 4,
 "nbformat_minor": 2
}
