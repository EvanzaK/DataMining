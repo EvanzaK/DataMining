{
 "cells": [
  {
   "cell_type": "markdown",
   "metadata": {},
   "source": [
    "## Implementasi Python"
   ]
  },
  {
   "cell_type": "code",
   "execution_count": 10,
   "metadata": {},
   "outputs": [
    {
     "name": "stdout",
     "output_type": "stream",
     "text": [
      "Index(['Id;SepalLengthCm;SepalWidthCm;PetalLengthCm;PetalWidthCm;Species'], dtype='object')\n"
     ]
    }
   ],
   "source": [
    "import pandas as pd\n",
    "from sklearn import tree\n",
    "\n",
    "# Gunakan raw string untuk path\n",
    "irisDataset = pd.read_csv(r'D:\\Quiz Minggu 7\\Dataset.csv', delimiter=',', header=0)\n",
    "\n",
    "# Debugging nama kolom\n",
    "print(irisDataset.columns)  # Pastikan kolom 'Species' ada\n",
    "\n",
    "# Pastikan nama kolom sesuai\n",
    "if 'Species' in irisDataset.columns:\n",
    "    irisDataset[\"Species\"] = pd.factorize(irisDataset[\"Species\"])[0]\n",
    "    irisDataset = irisDataset.drop(labels=\"id\", axis=1)\n",
    "    irisDataset = irisDataset.to_numpy()\n"
   ]
  },
  {
   "cell_type": "code",
   "execution_count": 15,
   "metadata": {},
   "outputs": [
    {
     "name": "stdout",
     "output_type": "stream",
     "text": [
      "Dimensi dataset: (150, 5)\n",
      "Label sebenarnya:  [0. 0. 0. 0. 0. 0. 0. 0. 0. 0. 1. 1. 1. 1. 1. 1. 1. 1. 1. 1.]\n",
      "Hasil prediksi:  [0. 0. 0. 0. 0. 0. 0. 0. 0. 0. 1. 1. 1. 1. 1. 1. 1. 1. 1. 1.]\n",
      "Prediksi benar:  20 data\n",
      "Prediksi salah:  0 data\n",
      "Akurasi: 100.00%\n"
     ]
    }
   ],
   "source": [
    "import numpy as np\n",
    "import pandas as pd\n",
    "from sklearn import tree\n",
    "\n",
    "# Contoh dataset Iris, Anda bisa mengganti ini dengan dataset asli Anda\n",
    "from sklearn.datasets import load_iris\n",
    "iris = load_iris()\n",
    "irisDataset = np.c_[iris.data, iris.target]  # Gabungkan fitur dan label\n",
    "\n",
    "# Pastikan irisDataset adalah array NumPy\n",
    "if isinstance(irisDataset, pd.DataFrame):\n",
    "    irisDataset = irisDataset.to_numpy()\n",
    "\n",
    "# Cek dimensi data\n",
    "print(f\"Dimensi dataset: {irisDataset.shape}\")\n",
    "\n",
    "# Pemisahan data training dan testing\n",
    "dataTraining = np.concatenate((irisDataset[0:40, :], irisDataset[50:90, :]), axis=0)\n",
    "dataTesting = np.concatenate((irisDataset[40:50, :], irisDataset[90:100, :]), axis=0)\n",
    "\n",
    "# Pemisahan fitur (input) dan label\n",
    "inputTraining = dataTraining[:, 0:4]  # Kolom fitur\n",
    "inputTesting = dataTesting[:, 0:4]\n",
    "labelTraining = dataTraining[:, 4]   # Kolom label (target)\n",
    "labelTesting = dataTesting[:, 4]\n",
    "\n",
    "# Definisikan Decision Tree Classifier\n",
    "model = tree.DecisionTreeClassifier()\n",
    "\n",
    "# Mentraining model\n",
    "model = model.fit(inputTraining, labelTraining)\n",
    "\n",
    "# Memprediksi data testing\n",
    "hasilPrediksi = model.predict(inputTesting)\n",
    "print(\"Label sebenarnya: \", labelTesting)\n",
    "print(\"Hasil prediksi: \", hasilPrediksi)\n",
    "\n",
    "# Menghitung akurasi\n",
    "prediksiBenar = (hasilPrediksi == labelTesting).sum()\n",
    "prediksiSalah = (hasilPrediksi != labelTesting).sum()\n",
    "akurasi = prediksiBenar / (prediksiBenar + prediksiSalah) * 100\n",
    "\n",
    "print(\"Prediksi benar: \", prediksiBenar, \"data\")\n",
    "print(\"Prediksi salah: \", prediksiSalah, \"data\")\n",
    "print(f\"Akurasi: {akurasi:.2f}%\")\n"
   ]
  }
 ],
 "metadata": {
  "kernelspec": {
   "display_name": "Python 3",
   "language": "python",
   "name": "python3"
  },
  "language_info": {
   "codemirror_mode": {
    "name": "ipython",
    "version": 3
   },
   "file_extension": ".py",
   "mimetype": "text/x-python",
   "name": "python",
   "nbconvert_exporter": "python",
   "pygments_lexer": "ipython3",
   "version": "3.12.2"
  }
 },
 "nbformat": 4,
 "nbformat_minor": 2
}
